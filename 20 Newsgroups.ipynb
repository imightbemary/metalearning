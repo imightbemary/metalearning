{
 "cells": [
  {
   "cell_type": "code",
   "execution_count": 1,
   "metadata": {},
   "outputs": [
    {
     "name": "stdout",
     "output_type": "stream",
     "text": [
      "['alt.atheism', 'comp.graphics', 'comp.os.ms-windows.misc', 'comp.sys.ibm.pc.hardware', 'comp.sys.mac.hardware', 'comp.windows.x', 'misc.forsale', 'rec.autos', 'rec.motorcycles', 'rec.sport.baseball', 'rec.sport.hockey', 'sci.crypt', 'sci.electronics', 'sci.med', 'sci.space', 'soc.religion.christian', 'talk.politics.guns', 'talk.politics.mideast', 'talk.politics.misc', 'talk.religion.misc']\n"
     ]
    }
   ],
   "source": [
    "from sklearn.datasets import fetch_20newsgroups\n",
    "newsgroups_train = fetch_20newsgroups(subset='train', remove=('headers', 'footers', 'quotes'))\n",
    "print(list(newsgroups_train.target_names))"
   ]
  },
  {
   "cell_type": "code",
   "execution_count": 2,
   "metadata": {},
   "outputs": [],
   "source": [
    "cats = ['alt.atheism', 'sci.space', 'misc.forsale', 'rec.autos']"
   ]
  },
  {
   "cell_type": "code",
   "execution_count": 3,
   "metadata": {},
   "outputs": [],
   "source": [
    "newsgroups_train = fetch_20newsgroups(subset='train', categories=cats, remove=('headers', 'footers', 'quotes'))"
   ]
  },
  {
   "cell_type": "code",
   "execution_count": 4,
   "metadata": {},
   "outputs": [
    {
     "name": "stdout",
     "output_type": "stream",
     "text": [
      "480 585 594 593\n"
     ]
    }
   ],
   "source": [
    "group_names = {0:'atheism', 1:'forsale', 2:'autos', 3:'space'}\n",
    "\n",
    "atheism_docs, forsale_docs, autos_docs, space_docs = [], [], [], []\n",
    "for idx, label in enumerate(newsgroups_train.target):\n",
    "    if label == 0:\n",
    "        atheism_docs.append(idx)\n",
    "    elif label == 1:\n",
    "        forsale_docs.append(idx)\n",
    "    elif label == 2:\n",
    "        autos_docs.append(idx)\n",
    "    elif label == 3:\n",
    "        space_docs.append(idx)\n",
    "print(len(atheism_docs), len(forsale_docs), len(autos_docs), len(space_docs))"
   ]
  },
  {
   "cell_type": "code",
   "execution_count": 5,
   "metadata": {},
   "outputs": [
    {
     "data": {
      "text/plain": [
       "(2252, 2252)"
      ]
     },
     "execution_count": 5,
     "metadata": {},
     "output_type": "execute_result"
    }
   ],
   "source": [
    "len(newsgroups_train.data), len(newsgroups_train.target)"
   ]
  },
  {
   "cell_type": "markdown",
   "metadata": {},
   "source": [
    "# Vectorize Data"
   ]
  },
  {
   "cell_type": "code",
   "execution_count": 6,
   "metadata": {},
   "outputs": [],
   "source": [
    "import re\n",
    "docs = [doc.replace('\\n',' ').replace('\\t',' ').strip() for doc in newsgroups_train.data]\n",
    "docs = [re.sub(' {2,}',' ', doc) for doc in docs]"
   ]
  },
  {
   "cell_type": "code",
   "execution_count": 7,
   "metadata": {},
   "outputs": [],
   "source": [
    "import spacy\n",
    "nlp = spacy.load('en_core_web_sm')\n",
    "\n",
    "vectors = [nlp(doc) for doc in docs]"
   ]
  },
  {
   "cell_type": "code",
   "execution_count": 8,
   "metadata": {},
   "outputs": [],
   "source": [
    "vectors = [vector.vector for vector in vectors]"
   ]
  },
  {
   "cell_type": "markdown",
   "metadata": {},
   "source": [
    "# Per Class Average"
   ]
  },
  {
   "cell_type": "code",
   "execution_count": 23,
   "metadata": {},
   "outputs": [],
   "source": [
    "import numpy as np\n",
    "\n",
    "def get_class_average(vectors, class_docs):\n",
    "    class_vectors = np.vstack((vectors[class_docs[0]], vectors[class_docs[1]]))\n",
    "    for i in range(2,len(class_docs)):\n",
    "        tmp = vectors[class_docs[i]]\n",
    "        if tmp.shape[0] > 0:\n",
    "            class_vectors = np.vstack((class_vectors, tmp))\n",
    "    return class_vectors, np.mean(class_vectors, axis=0)\n",
    "    \n",
    "atheism_vectors = np.vstack((vectors[atheism_docs[0]], vectors[atheism_docs[1]]))\n",
    "#for i in range(2,len(atheism_docs)):\n",
    "#    tmp = vectors[atheism_docs[i]]\n",
    "    \n",
    "#    try:\n",
    "#        atheism_vectors = np.vstack((atheism_vectors, tmp))\n",
    "#    except:\n",
    "#        print(atheism_vectors.shape, tmp.shape)\n",
    "#atheism_vectors.shape\n",
    "#np.vstack((vectors[atheism_docs[0]], vectors[atheism_docs[1]])).mean(axis=0).shape"
   ]
  },
  {
   "cell_type": "code",
   "execution_count": 11,
   "metadata": {},
   "outputs": [
    {
     "data": {
      "text/plain": [
       "(384,)"
      ]
     },
     "execution_count": 11,
     "metadata": {},
     "output_type": "execute_result"
    }
   ],
   "source": [
    "np.mean(atheism_vectors, axis=0).shape"
   ]
  },
  {
   "cell_type": "code",
   "execution_count": 24,
   "metadata": {},
   "outputs": [],
   "source": [
    "atheism_vectors, atheism_avg = get_class_average(vectors, atheism_docs)\n",
    "forsale_vectors, forsale_avg = get_class_average(vectors, forsale_docs)\n",
    "autos_vectors, autos_avg = get_class_average(vectors, autos_docs)\n",
    "space_vectors, space_avg = get_class_average(vectors, space_docs)"
   ]
  },
  {
   "cell_type": "markdown",
   "metadata": {},
   "source": [
    "# Test"
   ]
  },
  {
   "cell_type": "code",
   "execution_count": 11,
   "metadata": {},
   "outputs": [],
   "source": [
    "newsgroups_test = fetch_20newsgroups(subset='test', categories=cats, remove=('headers', 'footers', 'quotes'))"
   ]
  },
  {
   "cell_type": "code",
   "execution_count": 28,
   "metadata": {},
   "outputs": [],
   "source": [
    "test_docs = [nlp(doc) for doc in newsgroups_train.data]\n",
    "test_vectors = [vector.vector for vector in test_docs]"
   ]
  },
  {
   "cell_type": "code",
   "execution_count": 73,
   "metadata": {},
   "outputs": [],
   "source": [
    "from sklearn.metrics.pairwise import cosine_similarity\n",
    "import operator\n",
    "import warnings\n",
    "warnings.filterwarnings('ignore')\n",
    "group_names = {0:'atheism', 1:'forsale', 2:'autos', 3:'space'}\n",
    "\n",
    "def classify_doc(doc, vector):\n",
    "    results = {}\n",
    "    results['atheism'] = cosine_similarity(atheism_avg, vector)[0]\n",
    "    results['forsale'] = cosine_similarity(forsale_avg, vector)[0]\n",
    "    results['autos'] = cosine_similarity(autos_avg, vector)[0]\n",
    "    results['space'] = cosine_similarity(space_avg, vector)[0]\n",
    "    #print(doc)\n",
    "    sorted_results = sorted(results.items(), key=operator.itemgetter(1))\n",
    "    return sorted_results, results\n",
    "\n",
    "def evaluate(idx):\n",
    "    results, _ = classify_doc(test_docs[idx], test_vectors[idx])\n",
    "    print('True class: {l}'.format(l=group_names[newsgroups_test.target[idx]]))\n",
    "    print('Predicted class: {p} with cosine similarity {c}'.format(p=results[0][0], c=results[0][1][0]))\n",
    "    print(test_docs[idx])"
   ]
  },
  {
   "cell_type": "code",
   "execution_count": 74,
   "metadata": {},
   "outputs": [
    {
     "name": "stdout",
     "output_type": "stream",
     "text": [
      "True class: forsale\n",
      "Predicted class: forsale with cosine similarity 0.8243203163146973\n",
      "Consumer Reports once wrote about the S-10 Blazer that it \"shook and rattled\n",
      "like a tired taxi cab\".  There is one noise that is expecially irritating -\n",
      "the back window squeaks.  I believe its because the whole tailgate assembly\n",
      "and window are not solid.  Anyway, has anyone had the same problem, and have\n",
      "you found any fixes?\n"
     ]
    }
   ],
   "source": [
    "evaluate(0)"
   ]
  },
  {
   "cell_type": "code",
   "execution_count": 75,
   "metadata": {},
   "outputs": [
    {
     "name": "stdout",
     "output_type": "stream",
     "text": [
      "True class: atheism\n",
      "Predicted class: forsale with cosine similarity 0.5610883235931396\n",
      "\n",
      "\n",
      "\tAgreed.\n",
      "\n",
      "--\n",
      "\n",
      "\n",
      "       \"Satan and the Angels do not have freewill.  \n",
      "        They do what god tells them to do. \"\n"
     ]
    }
   ],
   "source": [
    "evaluate(1)"
   ]
  },
  {
   "cell_type": "code",
   "execution_count": 76,
   "metadata": {},
   "outputs": [
    {
     "name": "stdout",
     "output_type": "stream",
     "text": [
      "True class: atheism\n",
      "Predicted class: atheism with cosine similarity 0.839500367641449\n",
      "4 month old Sega Genesis, barely used, one controller, in original\n",
      "box, with Sonics 1 and 2.  $130 gets the whole bundle shipped to you.\n",
      "\n",
      "Turns out they're not as addictive when they're yours.  Anyway, mail me if \n",
      "you're interested in this marvel of modern technology.\n",
      "\n"
     ]
    }
   ],
   "source": [
    "evaluate(2)"
   ]
  },
  {
   "cell_type": "code",
   "execution_count": 77,
   "metadata": {},
   "outputs": [
    {
     "name": "stdout",
     "output_type": "stream",
     "text": [
      "True class: forsale\n",
      "Predicted class: forsale with cosine similarity 0.8124094009399414\n",
      "\n",
      "Tammy, is this all explicitly stated in the bible, or do you assume\n",
      "that you know that Ezekiel indirectly mentioned? It could have been\n",
      "another metaphor, for instance Ezekiel was mad at his landlord, so he\n",
      "talked about him when he wrote about the prince of Tyre.\n",
      "\n",
      "Sorry, but my interpretation is more mundane, Ezekiel wrote about \n",
      "the prince of Tyre when we wrote about the prince of Tyre.\n",
      " \n",
      "Cheers,\n",
      "Kent\n"
     ]
    }
   ],
   "source": [
    "evaluate(3)"
   ]
  },
  {
   "cell_type": "code",
   "execution_count": 78,
   "metadata": {},
   "outputs": [
    {
     "name": "stdout",
     "output_type": "stream",
     "text": [
      "True class: atheism\n",
      "Predicted class: atheism with cosine similarity 0.3254280686378479\n",
      "FOR SALE: ****************************************************************\n",
      "\n",
      "386-40 with VGA Color Monitor, dual floppy, VGA card with 1MB on board, joystick,\n",
      "mouse, 2 MB RAM, no hard drive.\n",
      "\n",
      "\n",
      "FOR ONLY $500!  Respond quickly!\n",
      "\n",
      "\n",
      "\n",
      "\n"
     ]
    }
   ],
   "source": [
    "evaluate(4)"
   ]
  },
  {
   "cell_type": "code",
   "execution_count": 79,
   "metadata": {},
   "outputs": [
    {
     "name": "stdout",
     "output_type": "stream",
     "text": [
      "True class: forsale\n",
      "Predicted class: atheism with cosine similarity 0.5689576864242554\n",
      "If the  new  Kuiper belt object *is*  called 'Karla', the next\n",
      "one  should be called 'Smiley'.\n"
     ]
    }
   ],
   "source": [
    "evaluate(5)"
   ]
  },
  {
   "cell_type": "code",
   "execution_count": 80,
   "metadata": {},
   "outputs": [
    {
     "name": "stdout",
     "output_type": "stream",
     "text": [
      "True class: forsale\n",
      "Predicted class: forsale with cosine similarity 0.7575559020042419\n",
      "\n",
      "\n",
      " Could you explain what any of the above pertains to? Is this a position \n",
      "statement on something or typing practice? \n",
      "--\n",
      "\n",
      "\n",
      "       \"Satan and the Angels do not have freewill.  \n",
      "        They do what god tells them to do. \"\n"
     ]
    }
   ],
   "source": [
    "evaluate(6)"
   ]
  },
  {
   "cell_type": "code",
   "execution_count": 81,
   "metadata": {},
   "outputs": [
    {
     "name": "stdout",
     "output_type": "stream",
     "text": [
      "True class: space\n",
      "Predicted class: atheism with cosine similarity 0.6346250176429749\n",
      "16 bit MFM FD/HD controller \t- $25/b.o.\n",
      "\n",
      "copy card w/ software and cable\t- $30/b.o.\n",
      "(can copy any protected software)\n",
      "\n",
      "if interested, please reply to this account\n",
      "\n"
     ]
    }
   ],
   "source": [
    "evaluate(7)"
   ]
  },
  {
   "cell_type": "code",
   "execution_count": 83,
   "metadata": {},
   "outputs": [
    {
     "name": "stdout",
     "output_type": "stream",
     "text": [
      "True class: space\n",
      "Predicted class: atheism with cosine similarity 0.7935458421707153\n",
      "\n",
      "\n",
      "nice theory.  too bad the MR2's never came with a four cylinder over 2.0\n",
      "liters.  More like 1.6.  Or did they? were the nonturbo MR2II's  2.2 or\n",
      "some such?\n",
      "\n",
      "I also understand that anyone using balancing shafts on four cylinders, must\n",
      "pay SAAB a royalty for using their patented design..like Porsche's 3.0 I4...\n"
     ]
    }
   ],
   "source": [
    "evaluate(8)"
   ]
  },
  {
   "cell_type": "code",
   "execution_count": 84,
   "metadata": {},
   "outputs": [
    {
     "name": "stdout",
     "output_type": "stream",
     "text": [
      "True class: space\n",
      "Predicted class: atheism with cosine similarity 0.7535079121589661\n",
      "Second week of January (prime ski season at one of the largest Poconos ski\n",
      "areas).  Just north of Allentown.\n",
      "Condo sleeps 6-8 depending on how friendly you all are.  Has hot tub,\n",
      "deck.  Easy access to parking lot and shuttle to slopes (condo is a few\n",
      "miles from the slopes).\n",
      "\n",
      "Cost: $6000 OBRO, price based on what we paid for it (used, also) and\n",
      "current market.\n",
      "[RICHR]\n"
     ]
    }
   ],
   "source": [
    "evaluate(9)"
   ]
  },
  {
   "cell_type": "code",
   "execution_count": 85,
   "metadata": {},
   "outputs": [
    {
     "name": "stdout",
     "output_type": "stream",
     "text": [
      "True class: atheism\n",
      "Predicted class: forsale with cosine similarity 0.6919900178909302\n",
      "\n",
      "Don't listen to this guy, he's just a crank.  At first, this business\n",
      "about being the \"one true god\" was tolerated by the rest of us,\n",
      "but now it has gotten completely out of hand.\n",
      "\n",
      "Besides, it really isn't so bad when people stop believing in you.\n",
      "It's much more relaxing when mortals aren't always begging you for favors.\n"
     ]
    }
   ],
   "source": [
    "evaluate(10)"
   ]
  }
 ],
 "metadata": {
  "kernelspec": {
   "display_name": "Python 3",
   "language": "python",
   "name": "python3"
  },
  "language_info": {
   "codemirror_mode": {
    "name": "ipython",
    "version": 3
   },
   "file_extension": ".py",
   "mimetype": "text/x-python",
   "name": "python",
   "nbconvert_exporter": "python",
   "pygments_lexer": "ipython3",
   "version": "3.6.3"
  }
 },
 "nbformat": 4,
 "nbformat_minor": 2
}

{
 "cells": [
  {
   "cell_type": "code",
   "execution_count": 1,
   "metadata": {},
   "outputs": [
    {
     "name": "stdout",
     "output_type": "stream",
     "text": [
      "['alt.atheism', 'comp.graphics', 'comp.os.ms-windows.misc', 'comp.sys.ibm.pc.hardware', 'comp.sys.mac.hardware', 'comp.windows.x', 'misc.forsale', 'rec.autos', 'rec.motorcycles', 'rec.sport.baseball', 'rec.sport.hockey', 'sci.crypt', 'sci.electronics', 'sci.med', 'sci.space', 'soc.religion.christian', 'talk.politics.guns', 'talk.politics.mideast', 'talk.politics.misc', 'talk.religion.misc']\n"
     ]
    }
   ],
   "source": [
    "from sklearn.datasets import fetch_20newsgroups\n",
    "newsgroups_train = fetch_20newsgroups(subset='train', remove=('headers', 'footers', 'quotes'))\n",
    "print(list(newsgroups_train.target_names))"
   ]
  },
  {
   "cell_type": "code",
   "execution_count": 2,
   "metadata": {},
   "outputs": [],
   "source": [
    "cats = ['alt.atheism', 'sci.space', 'misc.forsale', 'rec.autos']"
   ]
  },
  {
   "cell_type": "code",
   "execution_count": 3,
   "metadata": {},
   "outputs": [],
   "source": [
    "newsgroups_train = fetch_20newsgroups(subset='train', categories=cats, remove=('headers', 'footers', 'quotes'))"
   ]
  },
  {
   "cell_type": "code",
   "execution_count": 4,
   "metadata": {},
   "outputs": [
    {
     "name": "stdout",
     "output_type": "stream",
     "text": [
      "480 585 594 593\n"
     ]
    }
   ],
   "source": [
    "group_names = {0:'atheism', 1:'forsale', 2:'autos', 3:'space'}\n",
    "\n",
    "atheism_docs, forsale_docs, autos_docs, space_docs = [], [], [], []\n",
    "for idx, label in enumerate(newsgroups_train.target):\n",
    "    if label == 0:\n",
    "        atheism_docs.append(idx)\n",
    "    elif label == 1:\n",
    "        forsale_docs.append(idx)\n",
    "    elif label == 2:\n",
    "        autos_docs.append(idx)\n",
    "    elif label == 3:\n",
    "        space_docs.append(idx)\n",
    "print(len(atheism_docs), len(forsale_docs), len(autos_docs), len(space_docs))"
   ]
  },
  {
   "cell_type": "code",
   "execution_count": 5,
   "metadata": {},
   "outputs": [
    {
     "data": {
      "text/plain": [
       "(2252, 2252)"
      ]
     },
     "execution_count": 5,
     "metadata": {},
     "output_type": "execute_result"
    }
   ],
   "source": [
    "len(newsgroups_train.data), len(newsgroups_train.target)"
   ]
  },
  {
   "cell_type": "markdown",
   "metadata": {},
   "source": [
    "# Vectorize Data"
   ]
  },
  {
   "cell_type": "code",
   "execution_count": 6,
   "metadata": {},
   "outputs": [],
   "source": [
    "import re\n",
    "docs = [doc.replace('\\n',' ').replace('\\t',' ').strip() for doc in newsgroups_train.data]\n",
    "docs = [re.sub(' {2,}',' ', doc) for doc in docs]"
   ]
  },
  {
   "cell_type": "code",
   "execution_count": 7,
   "metadata": {},
   "outputs": [],
   "source": [
    "import spacy\n",
    "nlp = spacy.load('en_core_web_sm')\n",
    "\n",
    "vectors = [nlp(doc) for doc in docs]"
   ]
  },
  {
   "cell_type": "code",
   "execution_count": 8,
   "metadata": {},
   "outputs": [],
   "source": [
    "vectors = [vector.vector for vector in vectors]"
   ]
  },
  {
   "cell_type": "markdown",
   "metadata": {},
   "source": [
    "# Per Class Average"
   ]
  },
  {
   "cell_type": "code",
   "execution_count": 9,
   "metadata": {},
   "outputs": [
    {
     "name": "stdout",
     "output_type": "stream",
     "text": [
      "(25, 384) (0,)\n",
      "(26, 384) (0,)\n",
      "(56, 384) (0,)\n",
      "(65, 384) (0,)\n",
      "(87, 384) (0,)\n",
      "(135, 384) (0,)\n",
      "(155, 384) (0,)\n",
      "(174, 384) (0,)\n",
      "(257, 384) (0,)\n",
      "(341, 384) (0,)\n",
      "(380, 384) (0,)\n",
      "(408, 384) (0,)\n"
     ]
    }
   ],
   "source": [
    "import numpy as np\n",
    "\n",
    "def get_class_average(vectors, class_docs):\n",
    "    class_vectors = np.vstack((vectors[class_docs[0]], vectors[class_docs[1]]))\n",
    "    for i in range(2,len(class_docs)):\n",
    "        tmp = vectors[class_docs[i]]\n",
    "        if tmp.shape[0] > 0:\n",
    "            class_vectors = np.vstack((class_vectors, tmp))\n",
    "    return class_vectors, np.mean(atheism_vectors, axis=0)\n",
    "    \n",
    "atheism_vectors = np.vstack((vectors[atheism_docs[0]], vectors[atheism_docs[1]]))\n",
    "#for i in range(2,len(atheism_docs)):\n",
    "#    tmp = vectors[atheism_docs[i]]\n",
    "    \n",
    "#    try:\n",
    "#        atheism_vectors = np.vstack((atheism_vectors, tmp))\n",
    "#    except:\n",
    "#        print(atheism_vectors.shape, tmp.shape)\n",
    "#atheism_vectors.shape\n",
    "#np.vstack((vectors[atheism_docs[0]], vectors[atheism_docs[1]])).mean(axis=0).shape"
   ]
  },
  {
   "cell_type": "code",
   "execution_count": 11,
   "metadata": {},
   "outputs": [
    {
     "data": {
      "text/plain": [
       "(384,)"
      ]
     },
     "execution_count": 11,
     "metadata": {},
     "output_type": "execute_result"
    }
   ],
   "source": [
    "np.mean(atheism_vectors, axis=0).shape"
   ]
  },
  {
   "cell_type": "code",
   "execution_count": 10,
   "metadata": {},
   "outputs": [],
   "source": [
    "atheism_vectors, atheism_avg = get_class_average(vectors, atheism_docs)\n",
    "forsale_vectors, forsale_avg = get_class_average(vectors, forsale_docs)\n",
    "autos_vectors, autos_avg = get_class_average(vectors, autos_docs)\n",
    "space_vectors, space_avg = get_class_average(vectors, space_docs)"
   ]
  },
  {
   "cell_type": "markdown",
   "metadata": {},
   "source": [
    "# Test"
   ]
  },
  {
   "cell_type": "code",
   "execution_count": 11,
   "metadata": {},
   "outputs": [],
   "source": [
    "newsgroups_test = fetch_20newsgroups(subset='test', categories=cats, remove=('headers', 'footers', 'quotes'))"
   ]
  },
  {
   "cell_type": "code",
   "execution_count": 13,
   "metadata": {},
   "outputs": [],
   "source": [
    "test_vectors = [nlp(doc) for doc in newsgroups_train.data]"
   ]
  },
  {
   "cell_type": "code",
   "execution_count": 12,
   "metadata": {},
   "outputs": [
    {
     "name": "stdout",
     "output_type": "stream",
     "text": [
      "480 585 594 593\n"
     ]
    }
   ],
   "source": [
    "group_names = {0:'atheism', 1:'forsale', 2:'autos', 3:'space'}\n",
    "\n",
    "atheism_test_docs, forsale_test_docs, autos_test_docs, space_test_docs = [], [], [], []\n",
    "for idx, label in enumerate(newsgroups_train.target):\n",
    "    if label == 0:\n",
    "        atheism_test_docs.append(idx)\n",
    "    elif label == 1:\n",
    "        forsale_test_docs.append(idx)\n",
    "    elif label == 2:\n",
    "        autos_test_docs.append(idx)\n",
    "    elif label == 3:\n",
    "        space_test_docs.append(idx)\n",
    "print(len(atheism_test_docs), len(forsale_test_docs), len(autos_test_docs), len(space_test_docs))"
   ]
  },
  {
   "cell_type": "code",
   "execution_count": null,
   "metadata": {},
   "outputs": [],
   "source": []
  },
  {
   "cell_type": "code",
   "execution_count": 24,
   "metadata": {},
   "outputs": [
    {
     "name": "stdout",
     "output_type": "stream",
     "text": [
      "[[0.9999999]] [[0.9999999]]\n"
     ]
    },
    {
     "name": "stderr",
     "output_type": "stream",
     "text": [
      "/Users/katie.bauer/miniconda3/envs/py3/lib/python3.6/site-packages/sklearn/utils/validation.py:395: DeprecationWarning: Passing 1d arrays as data is deprecated in 0.17 and will raise ValueError in 0.19. Reshape your data either using X.reshape(-1, 1) if your data has a single feature or X.reshape(1, -1) if it contains a single sample.\n",
      "  DeprecationWarning)\n",
      "/Users/katie.bauer/miniconda3/envs/py3/lib/python3.6/site-packages/sklearn/utils/validation.py:395: DeprecationWarning: Passing 1d arrays as data is deprecated in 0.17 and will raise ValueError in 0.19. Reshape your data either using X.reshape(-1, 1) if your data has a single feature or X.reshape(1, -1) if it contains a single sample.\n",
      "  DeprecationWarning)\n",
      "/Users/katie.bauer/miniconda3/envs/py3/lib/python3.6/site-packages/sklearn/utils/validation.py:395: DeprecationWarning: Passing 1d arrays as data is deprecated in 0.17 and will raise ValueError in 0.19. Reshape your data either using X.reshape(-1, 1) if your data has a single feature or X.reshape(1, -1) if it contains a single sample.\n",
      "  DeprecationWarning)\n",
      "/Users/katie.bauer/miniconda3/envs/py3/lib/python3.6/site-packages/sklearn/utils/validation.py:395: DeprecationWarning: Passing 1d arrays as data is deprecated in 0.17 and will raise ValueError in 0.19. Reshape your data either using X.reshape(-1, 1) if your data has a single feature or X.reshape(1, -1) if it contains a single sample.\n",
      "  DeprecationWarning)\n"
     ]
    }
   ],
   "source": [
    "from sklearn.metrics.pairwise import cosine_similarity\n",
    "atheism_to_forsale = cosine_similarity(atheism_avg, forsale_avg)\n",
    "autos_to_forsale = cosine_similarity(autos_avg, forsale_avg)\n",
    "print(atheism_to_forsale, autos_to_forsale)"
   ]
  }
 ],
 "metadata": {
  "kernelspec": {
   "display_name": "Python 3",
   "language": "python",
   "name": "python3"
  },
  "language_info": {
   "codemirror_mode": {
    "name": "ipython",
    "version": 3
   },
   "file_extension": ".py",
   "mimetype": "text/x-python",
   "name": "python",
   "nbconvert_exporter": "python",
   "pygments_lexer": "ipython3",
   "version": "3.6.3"
  }
 },
 "nbformat": 4,
 "nbformat_minor": 2
}
